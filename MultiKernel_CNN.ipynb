{
 "cells": [
  {
   "cell_type": "code",
   "execution_count": 1,
   "metadata": {},
   "outputs": [],
   "source": [
    "from konlpy.tag import Okt\n",
    "okt=Okt()\n",
    "\n",
    "file = open('filename', 'r', encoding='utf-8-sig')\n",
    "\n",
    "sentences = []\n",
    "label = []\n",
    "\n",
    "\n",
    "for idx, line in enumerate(file):\n",
    "    if idx == 0:\n",
    "        continue\n",
    "    line = line.split('\\t')\n",
    "    sentences.append(line[1])\n",
    "    label.append(int(line[2].strip()))"
   ]
  },
  {
   "cell_type": "code",
   "execution_count": 2,
   "metadata": {},
   "outputs": [],
   "source": [
    "sentences_pos = []\n",
    "\n",
    "for line in sentences:\n",
    "    sentences_pos.append(okt.morphs(line))"
   ]
  },
  {
   "cell_type": "code",
   "execution_count": 3,
   "metadata": {},
   "outputs": [],
   "source": [
    "max_len = max([len(i) for i in sentences_pos])\n",
    "\n",
    "vocab = set()\n",
    "for line in sentences_pos:\n",
    "    for word in line:\n",
    "        vocab.add(word)"
   ]
  },
  {
   "cell_type": "code",
   "execution_count": 4,
   "metadata": {},
   "outputs": [],
   "source": [
    "vocab_size = len(vocab)+1\n",
    "\n",
    "vocab = sorted(list(vocab))\n",
    "\n",
    "vocab_index = {}\n",
    "for i in range(len(vocab)):\n",
    "    vocab_index[vocab[i]] = len(vocab_index)+1"
   ]
  },
  {
   "cell_type": "code",
   "execution_count": 5,
   "metadata": {},
   "outputs": [],
   "source": [
    "int_sentences = []\n",
    "\n",
    "for line in sentences_pos:\n",
    "    etc = []\n",
    "    for word in line:\n",
    "        etc.append(vocab_index[word])\n",
    "    int_sentences.append(etc)"
   ]
  },
  {
   "cell_type": "code",
   "execution_count": 6,
   "metadata": {},
   "outputs": [
    {
     "name": "stderr",
     "output_type": "stream",
     "text": [
      "Using TensorFlow backend.\n"
     ]
    }
   ],
   "source": [
    "from keras.preprocessing.sequence import pad_sequences\n",
    "\n",
    "padding_sentences = []\n",
    "\n",
    "int_sentences = pad_sequences(int_sentences, padding='post', maxlen=max_len)"
   ]
  },
  {
   "cell_type": "code",
   "execution_count": 7,
   "metadata": {},
   "outputs": [],
   "source": [
    "from sklearn.model_selection import train_test_split\n",
    "\n",
    "X_train, X_etc, y_train, y_etc = train_test_split(int_sentences, label, test_size=0.4, random_state=42)\n",
    "X_val, X_test, y_val, y_test = train_test_split(X_etc, y_etc, test_size=0.5, random_state=42)"
   ]
  },
  {
   "cell_type": "code",
   "execution_count": 8,
   "metadata": {},
   "outputs": [
    {
     "name": "stdout",
     "output_type": "stream",
     "text": [
      "__________________________________________________________________________________________________\n",
      "Layer (type)                    Output Shape         Param #     Connected to                     \n",
      "==================================================================================================\n",
      "input_1 (InputLayer)            (None, 82)           0                                            \n",
      "__________________________________________________________________________________________________\n",
      "embedding_1 (Embedding)         (None, 82, 50)       2840600     input_1[0][0]                    \n",
      "__________________________________________________________________________________________________\n",
      "conv1d_1 (Conv1D)               (None, 80, 100)      15100       embedding_1[0][0]                \n",
      "__________________________________________________________________________________________________\n",
      "conv1d_2 (Conv1D)               (None, 79, 100)      20100       embedding_1[0][0]                \n",
      "__________________________________________________________________________________________________\n",
      "conv1d_3 (Conv1D)               (None, 78, 100)      25100       embedding_1[0][0]                \n",
      "__________________________________________________________________________________________________\n",
      "global_max_pooling1d_1 (GlobalM (None, 100)          0           conv1d_1[0][0]                   \n",
      "__________________________________________________________________________________________________\n",
      "global_max_pooling1d_2 (GlobalM (None, 100)          0           conv1d_2[0][0]                   \n",
      "__________________________________________________________________________________________________\n",
      "global_max_pooling1d_3 (GlobalM (None, 100)          0           conv1d_3[0][0]                   \n",
      "__________________________________________________________________________________________________\n",
      "concatenate_1 (Concatenate)     (None, 300)          0           global_max_pooling1d_1[0][0]     \n",
      "                                                                 global_max_pooling1d_2[0][0]     \n",
      "                                                                 global_max_pooling1d_3[0][0]     \n",
      "__________________________________________________________________________________________________\n",
      "dropout_1 (Dropout)             (None, 300)          0           concatenate_1[0][0]              \n",
      "__________________________________________________________________________________________________\n",
      "dense_1 (Dense)                 (None, 50)           15050       dropout_1[0][0]                  \n",
      "__________________________________________________________________________________________________\n",
      "dense_2 (Dense)                 (None, 1)            51          dense_1[0][0]                    \n",
      "==================================================================================================\n",
      "Total params: 2,916,001\n",
      "Trainable params: 2,916,001\n",
      "Non-trainable params: 0\n",
      "__________________________________________________________________________________________________\n"
     ]
    }
   ],
   "source": [
    "from keras import layers\n",
    "from keras.models import Sequential\n",
    "from keras.models import Model\n",
    "import keras\n",
    "\n",
    "embedding_size = 50\n",
    "\n",
    "input_data = layers.Input(shape=(max_len, ))\n",
    "\n",
    "emd = layers.Embedding(vocab_size, 50)(input_data)\n",
    "\n",
    "cnn3 = layers.Conv1D(filters=100, kernel_size=3, strides=1, padding='valid', activation='relu')(emd)\n",
    "cnn4 = layers.Conv1D(filters=100, kernel_size=4, strides=1, padding='valid', activation='relu')(emd)\n",
    "cnn5 = layers.Conv1D(filters=100, kernel_size=5, strides=1, padding='valid', activation='relu')(emd)\n",
    "\n",
    "pooling3 = layers.GlobalMaxPooling1D()(cnn3)\n",
    "pooling4 = layers.GlobalMaxPooling1D()(cnn4)\n",
    "pooling5 = layers.GlobalMaxPooling1D()(cnn5)\n",
    "\n",
    "concat = layers.Concatenate(axis=-1)([pooling3, pooling4, pooling5])\n",
    "\n",
    "drop = layers.Dropout(0.5)(concat)\n",
    "\n",
    "dense = layers.Dense(50, activation='relu')(drop)\n",
    "\n",
    "output = layers.Dense(1, activation='sigmoid')(dense)\n",
    "\n",
    "optimizer = keras.optimizers.Adadelta()\n",
    "\n",
    "model = Model(inputs=input_data, outputs=output)\n",
    "model.compile(loss='binary_crossentropy', optimizer=optimizer, metrics=['accuracy'])\n",
    "model.summary()"
   ]
  },
  {
   "cell_type": "code",
   "execution_count": 9,
   "metadata": {},
   "outputs": [
    {
     "name": "stdout",
     "output_type": "stream",
     "text": [
      "Train on 30000 samples, validate on 10000 samples\n",
      "Epoch 1/100\n",
      "30000/30000 [==============================] - 10s 343us/step - loss: 0.5786 - acc: 0.6741 - val_loss: 0.4585 - val_acc: 0.7825\n",
      "Epoch 2/100\n",
      "30000/30000 [==============================] - 5s 153us/step - loss: 0.4124 - acc: 0.8121 - val_loss: 0.4115 - val_acc: 0.8123\n",
      "Epoch 3/100\n",
      "30000/30000 [==============================] - 5s 159us/step - loss: 0.3429 - acc: 0.8551 - val_loss: 0.3998 - val_acc: 0.8218\n",
      "Epoch 4/100\n",
      "30000/30000 [==============================] - 5s 164us/step - loss: 0.2968 - acc: 0.8806 - val_loss: 0.3922 - val_acc: 0.8271\n",
      "Epoch 5/100\n",
      "30000/30000 [==============================] - 5s 164us/step - loss: 0.2548 - acc: 0.9007 - val_loss: 0.4029 - val_acc: 0.8246\n",
      "Epoch 6/100\n",
      "30000/30000 [==============================] - 5s 165us/step - loss: 0.2156 - acc: 0.9215 - val_loss: 0.4039 - val_acc: 0.8307\n",
      "Epoch 7/100\n",
      "30000/30000 [==============================] - 5s 165us/step - loss: 0.1790 - acc: 0.9366 - val_loss: 0.4214 - val_acc: 0.8314\n",
      "Restoring model weights from the end of the best epoch\n",
      "Epoch 00007: early stopping\n"
     ]
    },
    {
     "data": {
      "text/plain": [
       "<keras.callbacks.History at 0x7f8874df8ef0>"
      ]
     },
     "execution_count": 9,
     "metadata": {},
     "output_type": "execute_result"
    }
   ],
   "source": [
    "from keras.callbacks import EarlyStopping\n",
    "\n",
    "es = EarlyStopping(monitor='val_loss',mode='min', verbose=1, patience=3, restore_best_weights=True)\n",
    "\n",
    "model.fit([X_train], y_train, batch_size=64, epochs=100, validation_data=([X_val], y_val), callbacks=[es])"
   ]
  },
  {
   "cell_type": "code",
   "execution_count": 11,
   "metadata": {},
   "outputs": [
    {
     "name": "stdout",
     "output_type": "stream",
     "text": [
      "10000/10000 [==============================] - 1s 72us/step\n",
      "Accuracy: 0.8244\n",
      "Loss: 0.3916692382335663\n"
     ]
    }
   ],
   "source": [
    "evaluation = model.evaluate([X_test], y_test)\n",
    "\n",
    "print('Accuracy: '+str(evaluation[1]))\n",
    "print('Loss: '+str(evaluation[0]))"
   ]
  },
  {
   "cell_type": "code",
   "execution_count": null,
   "metadata": {},
   "outputs": [],
   "source": []
  }
 ],
 "metadata": {
  "kernelspec": {
   "display_name": "Python 3",
   "language": "python",
   "name": "python3"
  },
  "language_info": {
   "codemirror_mode": {
    "name": "ipython",
    "version": 3
   },
   "file_extension": ".py",
   "mimetype": "text/x-python",
   "name": "python",
   "nbconvert_exporter": "python",
   "pygments_lexer": "ipython3",
   "version": "3.6.8"
  }
 },
 "nbformat": 4,
 "nbformat_minor": 4
}
